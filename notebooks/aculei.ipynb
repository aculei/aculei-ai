{
 "cells": [
  {
   "cell_type": "markdown",
   "metadata": {},
   "source": [
    "# Aculei notebook\n",
    "\n",
    "This notebook is the collection of all steps made to create a dataset from hunter-camera images.\n",
    "\n",
    "The dataset is used to feed a database that serves [aculei](http://aculei.xyz) archive."
   ]
  },
  {
   "cell_type": "code",
   "execution_count": 19,
   "metadata": {},
   "outputs": [],
   "source": [
    "import sys\n",
    "sys.path.append('../')\n",
    "\n",
    "import pandas as pd\n",
    "\n",
    "from PIL import Image\n",
    "\n",
    "from tqdm import tqdm\n",
    "\n",
    "from transformers import pipeline\n",
    "\n",
    "import utils.hasher as hasher\n",
    "import utils.moonphase as moonphase\n",
    "import utils.ocr as ocr\n",
    "\n",
    "import exiftool\n",
    "\n",
    "import os\n",
    "os.environ[\"TOKENIZERS_PARALLELISM\"] = \"false\""
   ]
  },
  {
   "cell_type": "code",
   "execution_count": 20,
   "metadata": {},
   "outputs": [
    {
     "name": "stderr",
     "output_type": "stream",
     "text": [
      "Device set to use mps:0\n"
     ]
    }
   ],
   "source": [
    "checkpoint = \"openai/clip-vit-large-patch14\"\n",
    "\n",
    "detector = pipeline(model=checkpoint, task=\"zero-shot-image-classification\")\n",
    "\n",
    "candidate_labels = [\"porcupine\", \"wild boar\", \"fox\", \"hare\", \"deer\", \n",
    "                    \"badger\", \"wolf\", \"horse\", \"dog\", \"cat\", \"buzzard\", \"heron\", \"mallard\", \"squirrel\", \"crow\",\n",
    "                    \"human\", \"girl\", \"man\", \"woman\", \"old woman\", \"boy\", \"old man\", \"person\", \"people\"]"
   ]
  },
  {
   "cell_type": "code",
   "execution_count": 25,
   "metadata": {},
   "outputs": [],
   "source": [
    "data_folder = '../data/'\n",
    "image_folder = '../images/'\n",
    "folders = os.listdir(image_folder)\n",
    "folders = [f for f in folders if os.path.isdir(image_folder + f)]\n",
    "experience_folder = os.path.join(image_folder, 'experience')"
   ]
  },
  {
   "cell_type": "code",
   "execution_count": 26,
   "metadata": {},
   "outputs": [],
   "source": [
    "def ishuman(label):\n",
    "    return label in [\"human\", \"girl\", \"man\", \"woman\", \"old woman\", \"boy\", \"old man\", \"person\", \"people\"]"
   ]
  },
  {
   "cell_type": "code",
   "execution_count": 27,
   "metadata": {},
   "outputs": [
    {
     "name": "stderr",
     "output_type": "stream",
     "text": [
      "Processing images from CAM 7: 100%|██████████| 24/24 [00:10<00:00,  2.38it/s]\n",
      "Processing images from CAM 6: 100%|██████████| 8/8 [00:06<00:00,  1.16it/s]\n",
      "Processing images from CAM 4: 100%|██████████| 2/2 [00:01<00:00,  1.66it/s]\n"
     ]
    }
   ],
   "source": [
    "df = pd.DataFrame(columns=['id', 'image_name', 'predicted_animal', 'moon_phase', 'temperature', 'date'])\n",
    "\n",
    "for folder in folders:\n",
    "    files = os.listdir(image_folder + folder)\n",
    "    images = [f for f in files if f.endswith('.jpg')]\n",
    "    image_paths = [os.path.join(image_folder, folder, path) for path in images]\n",
    "    \n",
    "    metadata_dict = {}\n",
    "    with exiftool.ExifToolHelper() as et:\n",
    "        metadata = et.get_metadata(image_paths)\n",
    "        for d in metadata:\n",
    "            try:\n",
    "                metadata_dict[d[\"SourceFile\"]] = d[\"EXIF:DateTimeOriginal\"]\n",
    "            except KeyError:\n",
    "                pass\n",
    "\n",
    "    for path in tqdm(image_paths, desc=f\"Processing images from {folder}\"):\n",
    "        image = Image.open(path)\n",
    "\n",
    "        predictions = detector(image, candidate_labels=candidate_labels)\n",
    "        animal_label = predictions[0][\"label\"]\n",
    "\n",
    "        if ishuman(animal_label):\n",
    "            animal_label = \"human\"\n",
    "\n",
    "        top_predictions = predictions[:3]\n",
    "        for pred in top_predictions:\n",
    "            if ishuman(pred['label']):\n",
    "                pred['label'] = 'human'\n",
    "\n",
    "        id = hasher.generate_md5_image_id(image=image)\n",
    "        \n",
    "        date = None\n",
    "        moon_phase = None\n",
    "        try:\n",
    "            date = metadata_dict[path]\n",
    "            date = date.replace(':', '-', 2)\n",
    "            moon_phase = moonphase.phase(date)\n",
    "        except KeyError:\n",
    "            date = ocr.extract_date(image)\n",
    "            if date:\n",
    "                moon_phase = moonphase.phase(date)\n",
    "        \n",
    "        temperature = ocr.extract_temperature(image)\n",
    "\n",
    "        image_name = path.split('/')[-1]\n",
    "        \n",
    "        row = {'id': id, 'image_name': image_name, 'predicted_animal': animal_label, 'moon_phase': moon_phase, \n",
    "               'temperature': temperature, 'date': date, 'cam': folder, 'top_predictions': top_predictions}\n",
    "        \n",
    "        df = pd.concat([df, pd.DataFrame([row])], ignore_index=True)\n",
    "\n",
    "aculei_df = pd.read_csv(os.path.join(data_folder, 'archive.csv'))\n",
    "df.to_csv(os.path.join(data_folder, 'archive-update.csv'), index=False)\n",
    "archive_df = pd.concat([aculei_df, df], ignore_index=True)\n",
    "archive_df.to_csv(os.path.join(data_folder, 'archive.csv'), index=False)"
   ]
  },
  {
   "cell_type": "code",
   "execution_count": 28,
   "metadata": {},
   "outputs": [
    {
     "name": "stderr",
     "output_type": "stream",
     "text": [
      "Processing images from ../images/experience: 100%|██████████| 8/8 [00:07<00:00,  1.13it/s]\n"
     ]
    }
   ],
   "source": [
    "experience_df = pd.DataFrame(columns=['id', 'image_name', 'predicted_animal', 'moon_phase', 'temperature', 'date'])\n",
    "\n",
    "files = os.listdir(experience_folder)\n",
    "images = [f for f in files if f.endswith('.jpg')]\n",
    "image_paths = [os.path.join(experience_folder, path) for path in images]\n",
    "\n",
    "metadata_dict = {}\n",
    "with exiftool.ExifToolHelper() as et:\n",
    "    metadata = et.get_metadata(image_paths)\n",
    "    for d in metadata:\n",
    "        try:\n",
    "            metadata_dict[d[\"SourceFile\"]] = d[\"EXIF:DateTimeOriginal\"]\n",
    "        except KeyError:\n",
    "            pass\n",
    "\n",
    "for path in tqdm(image_paths, desc=f\"Processing images from {experience_folder}\"):\n",
    "    image = Image.open(path)\n",
    "\n",
    "    predictions = detector(image, candidate_labels=candidate_labels)\n",
    "    animal_label = predictions[0][\"label\"]\n",
    "\n",
    "    if ishuman(animal_label):\n",
    "        animal_label = \"human\"\n",
    "\n",
    "    top_predictions = predictions[:3]\n",
    "    for pred in top_predictions:\n",
    "        if ishuman(pred['label']):\n",
    "            pred['label'] = 'human'\n",
    "\n",
    "    id = hasher.generate_md5_image_id(image=image)\n",
    "    \n",
    "    date = None\n",
    "    moon_phase = None\n",
    "    try:\n",
    "        date = metadata_dict[path]\n",
    "        date = date.replace(':', '-', 2)\n",
    "        moon_phase = moonphase.phase(date)\n",
    "    except KeyError:\n",
    "        date = ocr.extract_date(image)\n",
    "        if date:\n",
    "            moon_phase = moonphase.phase(date)\n",
    "    \n",
    "    temperature = ocr.extract_temperature(image)\n",
    "\n",
    "    camera = ocr.extract_camera(image)\n",
    "\n",
    "    image_name = path.split('/')[-1]\n",
    "    \n",
    "    row = {'id': id, 'image_name': image_name, 'predicted_animal': animal_label, 'moon_phase': moon_phase, \n",
    "            'temperature': temperature, 'date': date, 'cam': camera, 'top_predictions': top_predictions}\n",
    "    \n",
    "    experience_df = pd.concat([experience_df, pd.DataFrame([row])], ignore_index=True)\n",
    "\n",
    "experience_df.to_csv(os.path.join(data_folder, 'experience-update.csv'), index=False)\n",
    "\n",
    "exp_df = pd.read_csv(os.path.join(data_folder, 'experience.csv'))\n",
    "exp_df = pd.concat([exp_df, experience_df], ignore_index=True)\n",
    "exp_df.to_csv(os.path.join(data_folder, 'experience.csv'), index=False)"
   ]
  }
 ],
 "metadata": {
  "kernelspec": {
   "display_name": "venv",
   "language": "python",
   "name": "python3"
  },
  "language_info": {
   "codemirror_mode": {
    "name": "ipython",
    "version": 3
   },
   "file_extension": ".py",
   "mimetype": "text/x-python",
   "name": "python",
   "nbconvert_exporter": "python",
   "pygments_lexer": "ipython3",
   "version": "3.13.3"
  }
 },
 "nbformat": 4,
 "nbformat_minor": 2
}
