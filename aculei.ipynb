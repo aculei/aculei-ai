{
 "cells": [
  {
   "cell_type": "markdown",
   "metadata": {},
   "source": [
    "# Aculei notebook\n",
    "\n",
    "This notebook is the collection of all steps made to create a dataset from hunter-camera images.\n",
    "\n",
    "The dataset is used to feed a database that serves [aculei](http://aculei.xyz) archive."
   ]
  },
  {
   "cell_type": "code",
   "execution_count": 1,
   "metadata": {},
   "outputs": [
    {
     "name": "stderr",
     "output_type": "stream",
     "text": [
      "/Users/micheledinelli/github/aculei/aculei-ai/venv/lib/python3.13/site-packages/tqdm/auto.py:21: TqdmWarning: IProgress not found. Please update jupyter and ipywidgets. See https://ipywidgets.readthedocs.io/en/stable/user_install.html\n",
      "  from .autonotebook import tqdm as notebook_tqdm\n"
     ]
    }
   ],
   "source": [
    "import pandas as pd\n",
    "\n",
    "from PIL import Image\n",
    "\n",
    "from tqdm import tqdm\n",
    "\n",
    "from transformers import pipeline\n",
    "\n",
    "import utils.hasher as hasher\n",
    "import utils.moonphase as moonphase\n",
    "import utils.ocr as ocr\n",
    "\n",
    "import exiftool\n",
    "\n",
    "import os\n",
    "os.environ[\"TOKENIZERS_PARALLELISM\"] = \"false\""
   ]
  },
  {
   "cell_type": "code",
   "execution_count": 2,
   "metadata": {},
   "outputs": [
    {
     "name": "stderr",
     "output_type": "stream",
     "text": [
      "Using a slow image processor as `use_fast` is unset and a slow processor was saved with this model. `use_fast=True` will be the default behavior in v4.48, even if the model was saved with a slow processor. This will result in minor differences in outputs. You'll still be able to use a slow processor with `use_fast=False`.\n",
      "Device set to use mps:0\n"
     ]
    }
   ],
   "source": [
    "checkpoint = \"openai/clip-vit-large-patch14\"\n",
    "\n",
    "detector = pipeline(model=checkpoint, task=\"zero-shot-image-classification\")\n",
    "\n",
    "candidate_labels = [\"porcupine\", \"wild boar\", \"fox\", \"hare\", \"deer\", \n",
    "                    \"badger\", \"wolf\", \"horse\", \"dog\", \"cat\", \"buzzard\", \"heron\", \"mallard\", \"squirrel\"]"
   ]
  },
  {
   "cell_type": "code",
   "execution_count": 3,
   "metadata": {},
   "outputs": [],
   "source": [
    "data_folder = 'data/'\n",
    "image_folder = 'images/'\n",
    "folders = os.listdir(image_folder)\n",
    "folders = [f for f in folders if os.path.isdir(image_folder + f)]\n",
    "experience_folder = os.path.join(image_folder, 'experience')"
   ]
  },
  {
   "cell_type": "code",
   "execution_count": null,
   "metadata": {},
   "outputs": [
    {
     "name": "stderr",
     "output_type": "stream",
     "text": [
      "Processing images from CAM2: 100%|██████████| 49/49 [00:22<00:00,  2.14it/s]\n",
      "Processing images from CAM5: 100%|██████████| 75/75 [00:27<00:00,  2.73it/s]\n",
      "Processing images from CAM4: 100%|██████████| 110/110 [00:39<00:00,  2.80it/s]\n",
      "Processing images from CAM3: 100%|██████████| 180/180 [01:07<00:00,  2.67it/s]\n",
      "Processing images from CAM6: 100%|██████████| 146/146 [01:13<00:00,  1.98it/s]\n",
      "Processing images from CAM1: 100%|██████████| 49/49 [00:20<00:00,  2.44it/s]\n",
      "Processing images from CAM7: 100%|██████████| 57/57 [00:27<00:00,  2.04it/s]\n"
     ]
    }
   ],
   "source": [
    "df = pd.DataFrame(columns=['id', 'image_name', 'predicted_animal', 'moon_phase', 'temperature', 'date'])\n",
    "\n",
    "for folder in folders:\n",
    "    files = os.listdir(image_folder + folder)\n",
    "    images = [f for f in files if f.endswith('.jpg')]\n",
    "    image_paths = [os.path.join(image_folder, folder, path) for path in images]\n",
    "    \n",
    "    metadata_dict = {}\n",
    "    with exiftool.ExifToolHelper() as et:\n",
    "        metadata = et.get_metadata(image_paths)\n",
    "        for d in metadata:\n",
    "            try:\n",
    "                metadata_dict[d[\"SourceFile\"]] = d[\"EXIF:DateTimeOriginal\"]\n",
    "            except KeyError:\n",
    "                pass\n",
    "\n",
    "    for path in tqdm(image_paths, desc=f\"Processing images from {folder}\"):\n",
    "        image = Image.open(path)\n",
    "\n",
    "        predictions = detector(image, candidate_labels=candidate_labels)\n",
    "        animal_label = predictions[0][\"label\"]\n",
    "\n",
    "        id = hasher.generate_md5_image_id(image=image)\n",
    "        \n",
    "        date = None\n",
    "        moon_phase = None\n",
    "        try:\n",
    "            date = metadata_dict[path]\n",
    "            date = date.replace(':', '-', 2)\n",
    "            moon_phase = moonphase.phase(date)\n",
    "        except KeyError:\n",
    "            date = ocr.extract_date(image)\n",
    "            if date:\n",
    "                moon_phase = moonphase.phase(date)\n",
    "        \n",
    "        temperature = ocr.extract_temperature(image)\n",
    "\n",
    "        image_name = path.split('/')[-1]\n",
    "        \n",
    "        row = {'id': id, 'image_name': image_name, 'predicted_animal': animal_label, 'moon_phase': moon_phase, \n",
    "               'temperature': temperature, 'date': date, 'cam': folder}\n",
    "        \n",
    "        df = pd.concat([df, pd.DataFrame([row])], ignore_index=True)\n",
    "\n",
    "df.to_csv(os.path.join(data_folder, 'archive.csv'), index=False)"
   ]
  },
  {
   "cell_type": "code",
   "execution_count": 5,
   "metadata": {},
   "outputs": [
    {
     "name": "stderr",
     "output_type": "stream",
     "text": [
      "Processing images from images/experience: 100%|██████████| 230/230 [01:54<00:00,  2.00it/s]\n"
     ]
    }
   ],
   "source": [
    "df = pd.DataFrame(columns=['id', 'image_name', 'predicted_animal', 'moon_phase', 'temperature', 'date'])\n",
    "\n",
    "files = os.listdir(experience_folder)\n",
    "images = [f for f in files if f.endswith('.jpg')]\n",
    "image_paths = [os.path.join(experience_folder, path) for path in images]\n",
    "\n",
    "metadata_dict = {}\n",
    "with exiftool.ExifToolHelper() as et:\n",
    "    metadata = et.get_metadata(image_paths)\n",
    "    for d in metadata:\n",
    "        try:\n",
    "            metadata_dict[d[\"SourceFile\"]] = d[\"EXIF:DateTimeOriginal\"]\n",
    "        except KeyError:\n",
    "            pass\n",
    "\n",
    "for path in tqdm(image_paths, desc=f\"Processing images from {experience_folder}\"):\n",
    "    image = Image.open(path)\n",
    "\n",
    "    predictions = detector(image, candidate_labels=candidate_labels)\n",
    "    animal_label = predictions[0][\"label\"]\n",
    "\n",
    "    id = hasher.generate_md5_image_id(image=image)\n",
    "    \n",
    "    date = None\n",
    "    moon_phase = None\n",
    "    try:\n",
    "        date = metadata_dict[path]\n",
    "        date = date.replace(':', '-', 2)\n",
    "        moon_phase = moonphase.phase(date)\n",
    "    except KeyError:\n",
    "        date = ocr.extract_date(image)\n",
    "        if date:\n",
    "            moon_phase = moonphase.phase(date)\n",
    "    \n",
    "    temperature = ocr.extract_temperature(image)\n",
    "\n",
    "    camera = ocr.extract_camera(image)\n",
    "\n",
    "    image_name = path.split('/')[-1]\n",
    "    \n",
    "    row = {'id': id, 'image_name': image_name, 'predicted_animal': animal_label, 'moon_phase': moon_phase, \n",
    "            'temperature': temperature, 'date': date, 'cam': camera}\n",
    "    \n",
    "    df = pd.concat([df, pd.DataFrame([row])], ignore_index=True)\n",
    "\n",
    "df.to_csv(os.path.join(data_folder, 'experience.csv'), index=False)"
   ]
  }
 ],
 "metadata": {
  "kernelspec": {
   "display_name": "venv",
   "language": "python",
   "name": "python3"
  },
  "language_info": {
   "codemirror_mode": {
    "name": "ipython",
    "version": 3
   },
   "file_extension": ".py",
   "mimetype": "text/x-python",
   "name": "python",
   "nbconvert_exporter": "python",
   "pygments_lexer": "ipython3",
   "version": "3.13.1"
  }
 },
 "nbformat": 4,
 "nbformat_minor": 2
}
